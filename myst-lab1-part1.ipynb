{
 "cells": [
  {
   "cell_type": "markdown",
   "metadata": {},
   "source": [
    "<center><font color=#555555><font size=6> MAF1731 - Microstructure and Trading Systems </font> <br> <br>\n",
    "    \n",
    "<center><font color=#555555><font size=5> B.Eng Financial Engineering </font> <br> <br> <br> <br>\n",
    "   \n",
    "<center> <font color= #555555> <font size = 4> May 2023 </a> | <font color= #555555> <font size = 4> Repository: <a href='https://github.com/'>Link</a></font>"
   ]
  },
  {
   "cell_type": "markdown",
   "metadata": {},
   "source": [
    "<hr style=\"border:0.02in solid gray\"> </hr>"
   ]
  },
  {
   "cell_type": "markdown",
   "metadata": {},
   "source": [
    "<center> <font color= #555555> <font size = 6> Module 1 : Part 1 </font> <br> <br> <font color= #555555> <font size = 5> Market Microstructure of Blockchain-Based Financial Assets (OrderBooks) </font>"
   ]
  },
  {
   "cell_type": "markdown",
   "metadata": {},
   "source": [
    "<hr style=\"border:0.02in solid gray\"> </hr>"
   ]
  },
  {
   "cell_type": "markdown",
   "metadata": {},
   "source": [
    "<br>"
   ]
  },
  {
   "cell_type": "markdown",
   "metadata": {},
   "source": [
    "# <font color= #6B6B6B> <font size = 6> 1. Introduction </font>\n",
    "<hr style=\"border:0.02in solid gray\"> </hr>"
   ]
  },
  {
   "cell_type": "markdown",
   "metadata": {},
   "source": [
    "This notebook is provided as a case of study of Blockchain-Based financial assets, in particular, Bitcoin and Ethereum cryptocurrencies. Data within this notebook was extracted from the Kraken exchange and making use of the ccxt library. "
   ]
  },
  {
   "cell_type": "markdown",
   "metadata": {},
   "source": [
    "<br>"
   ]
  },
  {
   "cell_type": "markdown",
   "metadata": {},
   "source": [
    "# <font color= #6B6B6B> 2. Install/Load Packages and Depedencies </font>\n",
    "<hr style=\"border:0.02in solid gray\"> </hr>"
   ]
  },
  {
   "cell_type": "markdown",
   "metadata": {},
   "source": [
    "<br>"
   ]
  },
  {
   "cell_type": "markdown",
   "metadata": {},
   "source": [
    "## <font color= #6B6B6B> 2.2 Python Packages </font> <font color= #555555>"
   ]
  },
  {
   "cell_type": "markdown",
   "metadata": {},
   "source": [
    "In order to run this notebook, it is necessary to have installed and/or have the _requirements.txt_ file with the following: "
   ]
  },
  {
   "cell_type": "markdown",
   "metadata": {},
   "source": [
    "- pandas==1.3.3 \n",
    "- numpy==1.21.2\n",
    "- jupyter==1.0.0\n",
    "- ccxt==1.59.95"
   ]
  },
  {
   "cell_type": "markdown",
   "metadata": {},
   "source": [
    "## <font color= #6B6B6B> 2.3 Files Dependencies </font> <font color= #555555>"
   ]
  },
  {
   "cell_type": "markdown",
   "metadata": {},
   "source": [
    "The following are the file dependencies that are needed to run this notebook:"
   ]
  },
  {
   "cell_type": "markdown",
   "metadata": {},
   "source": [
    "- Files/orderbooks_05jul21.json : JSON file with Historical Orderbooks Gathered from BitFinex and Kraken for BTC/USDT"
   ]
  },
  {
   "cell_type": "markdown",
   "metadata": {},
   "source": [
    "## <font color= #6E6E6E> 2.3 Install Packages</font>"
   ]
  },
  {
   "cell_type": "code",
   "execution_count": 1,
   "metadata": {},
   "outputs": [],
   "source": [
    "%%capture\n",
    "\n",
    "# Install all the pip packages in the requirements.txt\n",
    "import sys\n",
    "!{sys.executable} -m pip install -r requirements.txt"
   ]
  },
  {
   "cell_type": "markdown",
   "metadata": {},
   "source": [
    "## <font color= #6E6E6E> 2.4 Load Packages</font>"
   ]
  },
  {
   "cell_type": "code",
   "execution_count": 2,
   "metadata": {},
   "outputs": [
    {
     "ename": "ModuleNotFoundError",
     "evalue": "No module named 'pyarrow'",
     "output_type": "error",
     "traceback": [
      "\u001b[1;31m---------------------------------------------------------------------------\u001b[0m",
      "\u001b[1;31mModuleNotFoundError\u001b[0m                       Traceback (most recent call last)",
      "\u001b[1;32m~\\AppData\\Local\\Temp\\ipykernel_21052\\1124743564.py\u001b[0m in \u001b[0;36m<module>\u001b[1;34m\u001b[0m\n\u001b[0;32m      6\u001b[0m \u001b[1;32mimport\u001b[0m \u001b[0mplotly\u001b[0m\u001b[1;33m.\u001b[0m\u001b[0mexpress\u001b[0m \u001b[1;32mas\u001b[0m \u001b[0mpx\u001b[0m\u001b[1;33m\u001b[0m\u001b[1;33m\u001b[0m\u001b[0m\n\u001b[0;32m      7\u001b[0m \u001b[1;32mimport\u001b[0m \u001b[0mplotly\u001b[0m\u001b[1;33m.\u001b[0m\u001b[0mgraph_objects\u001b[0m \u001b[1;32mas\u001b[0m \u001b[0mgo\u001b[0m\u001b[1;33m\u001b[0m\u001b[1;33m\u001b[0m\u001b[0m\n\u001b[1;32m----> 8\u001b[1;33m \u001b[1;32mimport\u001b[0m \u001b[0mpyarrow\u001b[0m\u001b[1;33m.\u001b[0m\u001b[0mparquet\u001b[0m \u001b[1;32mas\u001b[0m \u001b[0mpq\u001b[0m\u001b[1;33m\u001b[0m\u001b[1;33m\u001b[0m\u001b[0m\n\u001b[0m\u001b[0;32m      9\u001b[0m \u001b[1;33m\u001b[0m\u001b[0m\n\u001b[0;32m     10\u001b[0m \u001b[1;31m# -- Visualization\u001b[0m\u001b[1;33m\u001b[0m\u001b[1;33m\u001b[0m\u001b[0m\n",
      "\u001b[1;31mModuleNotFoundError\u001b[0m: No module named 'pyarrow'"
     ]
    }
   ],
   "source": [
    "# -- Generic\n",
    "import pandas as pd\n",
    "import numpy as np\n",
    "import json\n",
    "import matplotlib.pyplot as plt\n",
    "import plotly.express as px\n",
    "import plotly.graph_objects as go\n",
    "import pyarrow.parquet as pq\n",
    "\n",
    "# -- Visualization\n",
    "import plotly.graph_objects as go"
   ]
  },
  {
   "cell_type": "markdown",
   "metadata": {},
   "source": [
    "## <font color= #6E6E6E> 2.5 Load Other Scripts </font>"
   ]
  },
  {
   "cell_type": "code",
   "execution_count": null,
   "metadata": {},
   "outputs": [],
   "source": [
    "# -- Project scripts\n",
    "import visualizations as vs\n",
    "import functions as fn\n",
    "import data as dt"
   ]
  },
  {
   "cell_type": "markdown",
   "metadata": {},
   "source": [
    "# <font color= #6B6B6B> 3. Read and Visualize Data </font>\n",
    "<hr style=\"border:0.02in solid gray\"> </hr>"
   ]
  },
  {
   "cell_type": "markdown",
   "metadata": {},
   "source": [
    "Historical Orderbook data is stored in a **JSON** formated file, which stands for **J**ava **S**cript **O**bject **N**otation, in practical terms, it is very similar to a python dictionary since it has a list-like structure of storing the data, with one or several keys and each of which can have more keys and or data points.\n",
    "\n",
    "Remember also that a Pandas DataFrame is also in its core form a dictionary where each colum is a key and the column contents are each key contents. So, in a way, a **JSON** file is one option to represent a multidimensional DataFrame. "
   ]
  },
  {
   "cell_type": "markdown",
   "metadata": {},
   "source": [
    "## <font color= #6B6B6B> 3.1 Load and display the data </font>"
   ]
  },
  {
   "cell_type": "markdown",
   "metadata": {},
   "source": [
    "To read the contents of the file is very simple, by using the library *json*, it is a pre-installed one and you do need to import it but its already installed in the python base installation. "
   ]
  },
  {
   "cell_type": "code",
   "execution_count": null,
   "metadata": {},
   "outputs": [],
   "source": [
    "orderbooks_data = dt.read_file(file_name='orderbooks_05jul21.json', \n",
    "                               folder_route= 'files/')"
   ]
  },
  {
   "cell_type": "markdown",
   "metadata": {},
   "source": [
    "Lets check the contents of the file."
   ]
  },
  {
   "cell_type": "code",
   "execution_count": null,
   "metadata": {},
   "outputs": [],
   "source": [
    "orderbooks_data.keys()"
   ]
  },
  {
   "cell_type": "markdown",
   "metadata": {},
   "source": [
    "Allright, we have 2 keys, each of which corresponds to different exchanges where *BTC/USDT* is listed. Lets get store the timestamps of the two in sepparate objects, we will need those for later calculations."
   ]
  },
  {
   "cell_type": "code",
   "execution_count": null,
   "metadata": {},
   "outputs": [],
   "source": [
    "bitfinex_ts = list(orderbooks_data['bitfinex'].keys())\n",
    "kraken_ts = list(orderbooks_data['kraken'].keys())"
   ]
  },
  {
   "cell_type": "markdown",
   "metadata": {},
   "source": [
    "Now lets see some other info of each of the list, in priciple we are interested in just one for now so this calculation can apply to any of those two. Lets use as an example the data we have from Bitfinex."
   ]
  },
  {
   "cell_type": "markdown",
   "metadata": {},
   "source": [
    "## <font color= #6B6B6B> Q1 : Can you create a function for timestamps comparisson ? (2pt) </font>\n",
    "<hr style=\"border:0.02in solid gray\"> </hr>"
   ]
  },
  {
   "cell_type": "markdown",
   "metadata": {},
   "source": [
    "Inside the functions file, create a function named *f_timestamps_info* with input parameteres *ts_list_o* and *ts_list_d*, and the output must be a *dict* type object with the following keys and content:\n",
    "\n",
    "- *'first_o'* : has the first timestamp of the origin exchange.\n",
    "- *'last_o'* : has the last timestamp of the origin exchange.\n",
    "- *'qty_o'* : has the total amount of timestamps of the origin exchange.\n",
    "- *'first_d'* : has the first timestamp of the destination exchange.\n",
    "- *'last_d'* : has the last timestamp of the destination exchange.\n",
    "- *'qty_d'* : has the total amount of timestamps of the destination exchange.\n",
    "- *'exact_match'* : {'qty': The quantity of timestamps that were **exactly** the same in both origin and destination. *(Leave a 0 if none where present)*, 'values': a list str values of the timestamps that are **exactly** the same in both origin and destination, *(Leave an empty list [] if none where present)*}"
   ]
  },
  {
   "cell_type": "markdown",
   "metadata": {},
   "source": [
    "Place the code for this function in the *functions.py* file and should be callable from the following cell."
   ]
  },
  {
   "cell_type": "code",
   "execution_count": null,
   "metadata": {},
   "outputs": [],
   "source": [
    "def f_timestamps_info(ts_list_o, ts_list_d):\n",
    "    result = {}\n",
    "    \n",
    "    # Origin exchange\n",
    "    result['first_o'] = ts_list_o[0] if ts_list_o else None\n",
    "    result['last_o'] = ts_list_o[-1] if ts_list_o else None\n",
    "    result['qty_o'] = len(ts_list_o)\n",
    "    \n",
    "    # Destination exchange\n",
    "    result['first_d'] = ts_list_d[0] if ts_list_d else None\n",
    "    result['last_d'] = ts_list_d[-1] if ts_list_d else None\n",
    "    result['qty_d'] = len(ts_list_d)\n",
    "    \n",
    "    # Exact match\n",
    "    exact_match = set(ts_list_o) & set(ts_list_d)\n",
    "    result['exact_match'] = {\n",
    "        'qty': len(exact_match),\n",
    "        'values': list(exact_match)\n",
    "    }\n",
    "    \n",
    "    return result"
   ]
  },
  {
   "cell_type": "markdown",
   "metadata": {},
   "source": [
    "To practice the use of *display* function on jupyter notebooks, you should delivery the exact same result"
   ]
  },
  {
   "cell_type": "code",
   "execution_count": null,
   "metadata": {},
   "outputs": [],
   "source": [
    "# Delete this comment and place your code here in this cell"
   ]
  },
  {
   "cell_type": "code",
   "execution_count": null,
   "metadata": {},
   "outputs": [],
   "source": [
    "display(bitfinex_ts[0:4])\n",
    "display(kraken_ts[0:4])"
   ]
  },
  {
   "cell_type": "markdown",
   "metadata": {},
   "source": [
    "From now and on for the purpose of this lab, we are going to use only the information of one exchange, and also we are going to have the following order of columns (it is just a convention) 'bid_size', 'bid', 'ask' and 'ask_size'"
   ]
  },
  {
   "cell_type": "code",
   "execution_count": null,
   "metadata": {},
   "outputs": [],
   "source": [
    "ob_data = orderbooks_data['kraken']"
   ]
  },
  {
   "cell_type": "markdown",
   "metadata": {},
   "source": [
    "## <font color= #6B6B6B> Q2 : Can you get only the keys with not *None* values ? (2pt) </font>\n",
    "<hr style=\"border:0.02in solid gray\"> </hr>"
   ]
  },
  {
   "cell_type": "markdown",
   "metadata": {},
   "source": [
    "There exists a posibility of having *None* or empty values for any timestamp contained in the data set, so for the next sections on this lab we need to use the keys of the dict with *not None* values.\n",
    "\n",
    "Next incllude your code that generates the output that is showed."
   ]
  },
  {
   "cell_type": "code",
   "execution_count": null,
   "metadata": {},
   "outputs": [],
   "source": [
    "display('Number of historical Kraken orderbooks:')\n",
    "display(f'Before dorpping Nones: {len(ob_data_no+ob_data_yes)}')\n",
    "display(f'After dropping Nones: {len(ob_data)}')# Delete this comment and place your code here in this cell"
   ]
  },
  {
   "cell_type": "markdown",
   "metadata": {},
   "source": [
    "Lets see the first timestamp from where we do have data"
   ]
  },
  {
   "cell_type": "code",
   "execution_count": null,
   "metadata": {},
   "outputs": [],
   "source": [
    "display('First timestamp: ' + list(ob_data.keys())[0])\n",
    "print('')\n",
    "display('The Orderbook data is the following:')\n",
    "print('')\n",
    "display(pd.DataFrame(ob_data[list(ob_data.keys())[0]]))"
   ]
  },
  {
   "cell_type": "markdown",
   "metadata": {},
   "source": [
    "... And what about the last timestamp we have data from?"
   ]
  },
  {
   "cell_type": "code",
   "execution_count": null,
   "metadata": {},
   "outputs": [],
   "source": [
    "display('Last timestamp: ' + list(ob_data.keys())[-1])\n",
    "print('')\n",
    "display('The Orderbook data is the following:')\n",
    "print('')\n",
    "display(pd.DataFrame(ob_data[list(ob_data.keys())[-1]]))"
   ]
  },
  {
   "cell_type": "markdown",
   "metadata": {},
   "source": [
    "All right, looks good. We just need to switch the columns in order as its more often used in industry. After that, we should make a plot to have a different visual representation of that data, lets use *plotly*"
   ]
  },
  {
   "cell_type": "code",
   "execution_count": null,
   "metadata": {},
   "outputs": [],
   "source": [
    "ob_data = {orderbook: pd.DataFrame(ob_data[orderbook])[['bid_size', 'bid', 'ask', 'ask_size']]\n",
    "           for orderbook in list(ob_data.keys())}"
   ]
  },
  {
   "cell_type": "code",
   "execution_count": null,
   "metadata": {},
   "outputs": [],
   "source": [
    "ob_data[list(ob_data.keys())[0]]"
   ]
  },
  {
   "cell_type": "markdown",
   "metadata": {},
   "source": [
    "## <font color= #6B6B6B> Q3 : Make a horizontal barplot for the Orderbook representation (4pt) </font>\n",
    "<hr style=\"border:0.02in solid gray\"> </hr>"
   ]
  },
  {
   "cell_type": "markdown",
   "metadata": {},
   "source": [
    "Inside the visualizations.py file, there is a function named *plot_orderbook* with input parameteres *ob_data_plot*, using that function, you need to first select the day that had the highest total volume in the orderbook, and then use it to plot the first 20 levels for Bid side and first 20 levels for Ask side.\n",
    "\n",
    "Note: If you find more than 1 timestamp with the exact same volume, use the one that is closest to the present."
   ]
  },
  {
   "cell_type": "code",
   "execution_count": null,
   "metadata": {},
   "outputs": [],
   "source": [
    "ob_data_plot=fn.data_plot(ob=ob_data)\n",
    "\n",
    "max_vol_ts=ob_data_plot[1]\n",
    "ob_data_plot=ob_data_plot[0]\n",
    "\n",
    "display(ob_data_plot)"
   ]
  },
  {
   "cell_type": "code",
   "execution_count": null,
   "metadata": {},
   "outputs": [],
   "source": [
    "ob_data_plot.head()"
   ]
  },
  {
   "cell_type": "code",
   "execution_count": null,
   "metadata": {},
   "outputs": [],
   "source": [
    "plot_ob = vs.plot_ob(ob_data_plot=ob_data_plot, \n",
    "                     main_title='Orderbook Timestamp: ' + ob_keys[max_vol_ts])\n",
    "plot_ob.show()"
   ]
  },
  {
   "cell_type": "markdown",
   "metadata": {},
   "source": [
    "## <font color= #6B6B6B> Q4 : Can you calculate the historical bid, ask and spread ? (2pt) </font>\n",
    "<hr style=\"border:0.02in solid gray\"> </hr>"
   ]
  },
  {
   "cell_type": "markdown",
   "metadata": {},
   "source": [
    "Now we need to calculate the historical bid, ask and spread. That means to calculate them using the Top of the Book, i.e. using only the best bid, the bes ask. So, it turns out we need to iterate over all orderbook data we have and calculate those values.\n",
    "\n",
    "So, create a DataFrame, *df_ts_tob* with the following contents:"
   ]
  },
  {
   "cell_type": "code",
   "execution_count": null,
   "metadata": {},
   "outputs": [],
   "source": [
    "def calculate_tob_values(ob_data):\n",
    "    tob_data = []\n",
    "    for ob in ob_data:\n",
    "        date = ob['date']\n",
    "        bids = ob['bids']\n",
    "        asks = ob['asks']\n",
    "\n",
    "        if bids and asks:  # Ensure there are bids and asks available\n",
    "            best_bid = bids[0]['price']\n",
    "            best_ask = asks[0]['price']\n",
    "            spread = best_ask - best_bid\n",
    "\n",
    "            tob_data.append({\n",
    "                'date': date,\n",
    "                'best_bid': best_bid,\n",
    "                'best_ask': best_ask,\n",
    "                'spread': spread\n",
    "            })\n",
    "\n",
    "    return tob_data"
   ]
  },
  {
   "cell_type": "markdown",
   "metadata": {
    "tags": []
   },
   "source": [
    "## <font color= #6B6B6B> Q5 : Display the timestamps above a particular spread value (2pt) </font>\n",
    "<hr style=\"border:0.02in solid gray\"> </hr>"
   ]
  },
  {
   "cell_type": "markdown",
   "metadata": {},
   "source": [
    "In order to see some interesting time periods, lets see if we can find the timestamps where spread was above to 8.0 Usd."
   ]
  },
  {
   "cell_type": "code",
   "execution_count": null,
   "metadata": {
    "tags": []
   },
   "outputs": [],
   "source": [
    "spread_threshold = 8.0\n",
    "timestamps_above_threshold = df_ts_tob[df_ts_tob['spread'] > spread_threshold]['date']"
   ]
  },
  {
   "cell_type": "markdown",
   "metadata": {
    "tags": []
   },
   "source": [
    "## <font color= #6B6B6B> Q6 : Create a timeseries plot with bid and ask (Line plot) (2pt) </font>\n",
    "<hr style=\"border:0.02in solid gray\"> </hr>"
   ]
  },
  {
   "cell_type": "markdown",
   "metadata": {},
   "source": [
    "Lets visualize how the bid and the ask have been in the whole time series data we have. You have to create a time series plot, using plotly, exactly like this one:"
   ]
  },
  {
   "cell_type": "code",
   "execution_count": null,
   "metadata": {},
   "outputs": [],
   "source": [
    "def visualize_bid_ask(df_ts_tob):\n",
    "    fig = go.Figure()\n",
    "\n",
    "    fig.add_trace(go.Scatter(x=df_ts_tob['date'], y=df_ts_tob['best_bid'], name='Bid'))\n",
    "    fig.add_trace(go.Scatter(x=df_ts_tob['date'], y=df_ts_tob['best_ask'], name='Ask'))\n",
    "\n",
    "    fig.update_layout(\n",
    "        title='Bid and Ask Prices over Time',\n",
    "        xaxis_title='Date',\n",
    "        yaxis_title='Price',\n",
    "        hovermode='x'\n",
    "    )\n",
    "\n",
    "    fig.show()\n",
    "\n",
    "# Example usage\n",
    "visualize_bid_ask(df_ts_tob)"
   ]
  },
  {
   "cell_type": "markdown",
   "metadata": {
    "tags": []
   },
   "source": [
    "## <font color= #6B6B6B> Q7 : Create a boxplot graph with Spreads (5pt) </font>\n",
    "<hr style=\"border:0.02in solid gray\"> </hr>"
   ]
  },
  {
   "cell_type": "markdown",
   "metadata": {},
   "source": [
    "We will need to see the spread in time batches, so, lets see if you can split the data into hours and create a boxplot for every group, like the following:"
   ]
  },
  {
   "cell_type": "code",
   "execution_count": null,
   "metadata": {},
   "outputs": [],
   "source": [
    "df_ts_tob['spread'].describe()"
   ]
  },
  {
   "cell_type": "markdown",
   "metadata": {},
   "source": [
    "Hint: You will need to have the timestamp converted to only minutes, and use these two parameters when calling the plotly function: \n",
    "- boxpoints='outliers'   # can also be outliers, or suspectedoutliers, or False´\n",
    "- jitter=0.1             # add some jitter for a better separation between points"
   ]
  },
  {
   "cell_type": "code",
   "execution_count": null,
   "metadata": {},
   "outputs": [],
   "source": [
    "# Extract the hour from the date column\n",
    "df_ts_tob['hour'] = pd.to_datetime(df_ts_tob['date']).dt.hour\n",
    "\n",
    "# Group the data by hour and calculate the spread for each group\n",
    "grouped_data = df_ts_tob.groupby('hour')['spread'].apply(list)\n",
    "\n",
    "# Create a boxplot using Plotly Express\n",
    "fig = px.box(df_ts_tob, x='hour', y='spread', title='Spread Distribution by Hour')\n",
    "fig.show()"
   ]
  },
  {
   "cell_type": "markdown",
   "metadata": {},
   "source": [
    "## <font color= #6B6B6B> Q8 : Create Orderbook Imbalance Metric for all Orderbooks (2pt) </font>\n",
    "<hr style=\"border:0.02in solid gray\"> </hr>"
   ]
  },
  {
   "cell_type": "markdown",
   "metadata": {},
   "source": [
    "For the following calculations, you can use your own way and commands to create the code for those, yet, there are some suggestions for using numpy arrays. Feel free to focus on the levels of engineering development as mentioned in class, assign this priority level: 1) It works, 2) Its efficient, 3) Its elegant."
   ]
  },
  {
   "cell_type": "markdown",
   "metadata": {},
   "source": [
    "Orderbook Imbalance\n",
    "\n",
    "Using only the Top of the Book (TOB) information, which means, only the Bid and Ask volumes. Or, more than 1 level up to a  level as depth selection for each side"
   ]
  },
  {
   "cell_type": "markdown",
   "metadata": {},
   "source": [
    "\\begin{equation}\n",
    "{I}^{TOB}_{t} = \\frac{V^{b}_{t}}{V^{b}_{t} + V^{a}_{t}} \\quad , \\quad I^{LOB}_{t} = \\frac{\\sum_{b=1}^{B} V^{b}_{t}}{\\sum_{b=1}^{B} V^{b}_{t} + \\sum_{a=1}^{A} V^{a}_{t}}\n",
    "\\end{equation}"
   ]
  },
  {
   "cell_type": "code",
   "execution_count": null,
   "metadata": {},
   "outputs": [],
   "source": [
    "df_ts_tob_complete['imbalance']=[np.sum(df_ts_tob_complete['bid_size'][:i+1])/ \\\n",
    "                                 (np.sum(df_ts_tob_complete['bid_size'][:i+1])+ \\\n",
    "                                 np.sum(df_ts_tob_complete['ask_size'][:i+1]))\n",
    "                                 for i in range(len(df_ts_tob_complete))]\n",
    "\n",
    "df_imbalance=df_ts_tob_complete.copy()\n",
    "df_imbalance.drop(['bid_size', 'bid', 'ask', 'ask_size', 'spread', 'midprice'], axis=1)"
   ]
  },
  {
   "cell_type": "markdown",
   "metadata": {},
   "source": [
    "## <font color= #6B6B6B> Q9 : Create Spread Metric for all Orderbooks (2pt) </font>\n",
    "<hr style=\"border:0.02in solid gray\"> </hr>"
   ]
  },
  {
   "cell_type": "markdown",
   "metadata": {},
   "source": [
    "Spread\n",
    "\n",
    "Also known as Quote Spread, the most commonly used spread definition and the one we use predominantly in our systems."
   ]
  },
  {
   "cell_type": "markdown",
   "metadata": {},
   "source": [
    "\\begin{equation}\n",
    "Qs_{t} = P^{a}_{t} - P^{b}_{t}\n",
    "\\end{equation}"
   ]
  },
  {
   "cell_type": "code",
   "execution_count": null,
   "metadata": {},
   "outputs": [],
   "source": [
    "#df_ts_tob_complete['spread']=df_ts_tob_complete['ask']-df_ts_tob_complete['bid']\n",
    "\n",
    "df_spread=df_ts_tob_complete.copy()\n",
    "df_spread.drop(['bid_size', 'bid', 'ask', 'ask_size', 'midprice', 'imbalance'], axis=1)"
   ]
  },
  {
   "cell_type": "markdown",
   "metadata": {},
   "source": [
    "## <font color= #6B6B6B> Q10 : Create Midprice Metric for all Orderbooks (2pt) </font>\n",
    "<hr style=\"border:0.02in solid gray\"> </hr>"
   ]
  },
  {
   "cell_type": "markdown",
   "metadata": {},
   "source": [
    "Midprice \n",
    "\n",
    "Also known as Arithmetic Midprice, the most commonly used formula and the one that is present in our systems."
   ]
  },
  {
   "cell_type": "markdown",
   "metadata": {},
   "source": [
    "\\begin{equation}\n",
    "M_{t} = \\frac{1}{2} (P^{a}_{t} + P^{b}_{t})\n",
    "\\end{equation}"
   ]
  },
  {
   "cell_type": "code",
   "execution_count": null,
   "metadata": {},
   "outputs": [],
   "source": [
    "df_midprice=df_ts_tob_complete.copy()\n",
    "df_midprice.drop(['bid_size', 'bid', 'ask', 'ask_size', 'spread', 'imbalance'], axis=1)"
   ]
  },
  {
   "cell_type": "markdown",
   "metadata": {},
   "source": [
    "## <font color= #6B6B6B> Q11 : Create Weighted Midprice Metric for all Orderbooks (2pt) </font>\n",
    "<hr style=\"border:0.02in solid gray\"> </hr>"
   ]
  },
  {
   "cell_type": "markdown",
   "metadata": {},
   "source": [
    "Weighted-Midprice\n",
    "\n",
    "It uses only the TOB prices and their corresponding volumes. It represents the weighted average of the Bid () and the Ask (), weighted by their relative volumes  and ."
   ]
  },
  {
   "cell_type": "markdown",
   "metadata": {},
   "source": [
    "\\begin{equation}\n",
    "M^{\\omega}_{t} = \\frac{V^{a}_{t}}{V^{b}_{t} + V^{a}_{t}} P^{b}_{t} + \\frac{V^{b}_{t}}{V^{b}_{t} + V^{a}_{t}} P^{a}_{t}\n",
    "\\end{equation}"
   ]
  },
  {
   "cell_type": "markdown",
   "metadata": {},
   "source": [
    "If there are a lot of Buyers (), then the Weighted-Midprice is pushed towards (since  will multiply  and divide ), the opposite effect for the case of having a lot of Sellers is also true. This indicates the Buy or Sell pressure in the market and thus the tendency of the price to move either towards the Bid or Ask side."
   ]
  },
  {
   "cell_type": "code",
   "execution_count": null,
   "metadata": {},
   "outputs": [],
   "source": [
    "df_ts_tob_complete['weighted_midprice']=((df_ts_tob_complete['ask_size'])/ \\\n",
    "                                         ((df_ts_tob_complete['bid_size'])+ \\\n",
    "                                         (df_ts_tob_complete['ask_size'])))* \\\n",
    "                                         (df_ts_tob_complete['bid'])+ \\\n",
    "                                         ((df_ts_tob_complete['bid_size'])/ \\\n",
    "                                         ((df_ts_tob_complete['bid_size'])+ \\\n",
    "                                         (df_ts_tob_complete['ask_size'])))* \\\n",
    "                                         (df_ts_tob_complete['ask'])\n",
    "\n",
    "df_imbalance=df_ts_tob_complete.copy()\n",
    "df_imbalance.drop(['bid_size', 'bid', 'ask', 'ask_size', 'spread', 'midprice', 'imbalance'], axis=1)"
   ]
  },
  {
   "cell_type": "markdown",
   "metadata": {},
   "source": [
    "## <font color= #6B6B6B> Q12 : Volume-Weighted Mid Price (4 pts)</font>\n",
    "<hr style=\"border:0.02in solid gray\"> </hr>"
   ]
  },
  {
   "cell_type": "markdown",
   "metadata": {},
   "source": [
    "VWAP \n",
    "\n",
    "This is an acronym for Volume Weighted Average Price and is the average price between Bids () and Asks (), weighted by the volumes in Bid () and Ask (), and doing this using  as the selected depth for each side."
   ]
  },
  {
   "cell_type": "markdown",
   "metadata": {},
   "source": [
    "\\begin{equation}\n",
    "\\text{VWAP}^{(B, A)}_{t} = \\frac{\\sum_{b=1}^{B} [P^{b}_{t} * V^{b}_{t}]  + \\sum_{a=1}^{A} [ P^{a}_{t} * V^{a}_{t}]} {\\sum_{b=1}^{B} V^{b}_{t} + \\sum_{a=1}^{A} V^{a}_{t}}\n",
    "\\end{equation}"
   ]
  },
  {
   "cell_type": "code",
   "execution_count": null,
   "metadata": {},
   "outputs": [],
   "source": [
    "df_ts_tob_complete['volume_weighted_midprice']=[(np.sum((df_ts_tob_complete['bid'][:i+1])* \\\n",
    "                                                (df_ts_tob_complete['bid_size'][:i+1]))+ \\\n",
    "                                                np.sum((df_ts_tob_complete['ask'][:i+1])* \\\n",
    "                                                (df_ts_tob_complete['ask_size'][:i+1])))/ \\\n",
    "                                                (np.sum(df_ts_tob_complete['bid_size'][:i+1])+ \\\n",
    "                                                np.sum(df_ts_tob_complete['ask_size'][:i+1]))\n",
    "                                                for i in range(len(df_ts_tob_complete))]\n",
    "\n",
    "df_imbalance=df_ts_tob_complete.copy()\n",
    "df_imbalance.drop(['bid_size', 'bid', 'ask', 'ask_size', 'spread', 'midprice', 'imbalance', 'weighted_midprice'], axis=1)"
   ]
  },
  {
   "cell_type": "markdown",
   "metadata": {},
   "source": [
    "Honestly, I had some trouble making the coding in modules, instead of using a single notebook. But I think I understood the trading structures and bid and ask method. "
   ]
  },
  {
   "cell_type": "markdown",
   "metadata": {},
   "source": [
    "# <font color= #6B6B6B> <font size = 6> References </font>\n",
    "<hr style=\"border:0.02in solid gray\"> </hr>"
   ]
  },
  {
   "cell_type": "markdown",
   "metadata": {},
   "source": [
    "[1] Munnoz, 2020. Python project template. https://github.com/iffranciscome/python-project. (2021)."
   ]
  },
  {
   "cell_type": "markdown",
   "metadata": {},
   "source": [
    "<br>"
   ]
  }
 ],
 "metadata": {
  "kernelspec": {
   "display_name": "Python 3 (ipykernel)",
   "language": "python",
   "name": "python3"
  },
  "language_info": {
   "codemirror_mode": {
    "name": "ipython",
    "version": 3
   },
   "file_extension": ".py",
   "mimetype": "text/x-python",
   "name": "python",
   "nbconvert_exporter": "python",
   "pygments_lexer": "ipython3",
   "version": "3.9.13"
  },
  "vscode": {
   "interpreter": {
    "hash": "1a1af0ee75eeea9e2e1ee996c87e7a2b11a0bebd85af04bb136d915cefc0abce"
   }
  }
 },
 "nbformat": 4,
 "nbformat_minor": 4
}
